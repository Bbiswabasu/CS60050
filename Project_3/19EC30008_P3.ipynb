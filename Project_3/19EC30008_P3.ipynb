{
 "cells": [
  {
   "cell_type": "code",
   "execution_count": 98,
   "metadata": {},
   "outputs": [],
   "source": [
    "# Name - Bbiswabasu Roy\n",
    "# Roll - 19EC30008\n",
    "# Assignment - 3\n",
    "# No specific compilation flag required"
   ]
  },
  {
   "cell_type": "code",
   "execution_count": 99,
   "metadata": {},
   "outputs": [],
   "source": [
    "import pandas as pd\n",
    "import numpy as np\n",
    "import matplotlib.pyplot as plt"
   ]
  },
  {
   "cell_type": "code",
   "execution_count": 100,
   "metadata": {},
   "outputs": [],
   "source": [
    "data = pd.read_csv('Project3.csv')\n",
    "\n",
    "# one hot encoding for categorical values    \n",
    "data['Education_0'] = (data['Education']==0).astype(int)\n",
    "data['Education_1'] = (data['Education']==1).astype(int)\n",
    "data['Education_2'] = (data['Education']==2).astype(int)\n",
    "data['Education_3'] = (data['Education']==3).astype(int)\n",
    "data['Occupation_0'] = (data['Occupation']==0).astype(int)\n",
    "data['Occupation_1'] = (data['Occupation']==1).astype(int)\n",
    "data['Occupation_2'] = (data['Occupation']==2).astype(int)\n",
    "data['Settlement_size_0'] = (data['Settlement size']==0).astype(int)\n",
    "data['Settlement_size_1'] = (data['Settlement size']==1).astype(int)\n",
    "data['Settlement_size_2'] = (data['Settlement size']==2).astype(int)\n",
    "\n",
    "# remove original categorical column\n",
    "data=data.drop(['ID','Education','Occupation','Settlement size'],axis=1)\n",
    "\n",
    "# normalize each column\n",
    "data = (data-data.min())/(data.max()-data.min())\n",
    "data = data.values"
   ]
  },
  {
   "cell_type": "code",
   "execution_count": 101,
   "metadata": {},
   "outputs": [],
   "source": [
    "def compute_centroids_change(s1, s2):\n",
    "    centroids_change = 0\n",
    "    for i in range(0, len(s1)):\n",
    "        dist = np.linalg.norm(s1[i]-s2[i])\n",
    "        centroids_change += dist*dist\n",
    "    centroids_change /= len(s1)\n",
    "    centroids_change = np.sqrt(centroids_change)\n",
    "    return centroids_change\n"
   ]
  },
  {
   "cell_type": "code",
   "execution_count": 102,
   "metadata": {},
   "outputs": [],
   "source": [
    "def find_cluster(data, k):\n",
    "    eps = 1e-3\n",
    "    cluster_id = [-1]*len(data)\n",
    "    centroid_indices = np.floor(np.random.rand(k)*(len(data)-1)) # choose centroids to be some random data points\n",
    "    centroids = [0]*k\n",
    "    for i in range(0, k):\n",
    "        centroids[i] = data[int(centroid_indices[i])]\n",
    "\n",
    "    while(1):\n",
    "        centroids_prev = centroids\n",
    "        centroids = [0]*k # centroids after this iteration\n",
    "        bin_size = [0]*k # size of bins for each cluster\n",
    "        for i in range(0, len(data)):\n",
    "            min_dist = 1e18\n",
    "            best_cluster = -1\n",
    "            for j in range(0, k):\n",
    "                dist = np.linalg.norm(data[i]-centroids_prev[j])\n",
    "                if dist < min_dist:\n",
    "                    min_dist = dist\n",
    "                    best_cluster = j\n",
    "            cluster_id[i] = best_cluster\n",
    "            centroids[best_cluster] += data[i] # adding up data points of this cluster to compute mean position\n",
    "            bin_size[best_cluster] += 1\n",
    "\n",
    "        for i in range(0, k):\n",
    "            if bin_size[i]==0:\n",
    "                centroids[i]=centroids_prev[i]\n",
    "            else:\n",
    "                centroids[i] = centroids[i]/bin_size[i] # update each centroid to be mean of points in that bin\n",
    "            \n",
    "        centroids_change = compute_centroids_change(centroids_prev, centroids)\n",
    "        # print(\"Average change in centroid values = \",centroids_change)\n",
    "        if centroids_change < eps:\n",
    "            break\n",
    "    return [cluster_id,centroids]"
   ]
  },
  {
   "cell_type": "code",
   "execution_count": 103,
   "metadata": {},
   "outputs": [],
   "source": [
    "def compute_scatter(cluster_id, centroids, data):\n",
    "    intra_avg, intra_cnt = 0, 0\n",
    "    inter_avg = 0\n",
    "    for i in range(0, k):\n",
    "        for j in range(0, k):\n",
    "            inter_avg += np.linalg.norm(centroids[i]-centroids[j])\n",
    "\n",
    "    for i in range(0, len(data)):\n",
    "        intra_avg += np.linalg.norm(data[i]-centroids[cluster_id[i]])\n",
    "\n",
    "    intra_avg /= len(data)\n",
    "    inter_avg /= k*k\n",
    "    return intra_avg/inter_avg\n"
   ]
  },
  {
   "cell_type": "code",
   "execution_count": 104,
   "metadata": {},
   "outputs": [
    {
     "name": "stderr",
     "output_type": "stream",
     "text": [
      "<ipython-input-103-8832d2fd692b>:13: RuntimeWarning: divide by zero encountered in double_scalars\n",
      "  return intra_avg/inter_avg\n"
     ]
    },
    {
     "name": "stdout",
     "output_type": "stream",
     "text": [
      "Scatter for  1  clusters =  inf\n",
      "Scatter for  2  clusters =  1.663739577244387\n",
      "Scatter for  3  clusters =  1.132172653538645\n",
      "Scatter for  4  clusters =  0.9097989832556238\n",
      "Scatter for  5  clusters =  0.8664038899043369\n",
      "Scatter for  6  clusters =  0.7268266910597019\n",
      "Scatter for  7  clusters =  0.6783494591470302\n",
      "Scatter for  8  clusters =  0.6015437133206312\n",
      "Scatter for  9  clusters =  0.5080933541646909\n",
      "Scatter for  10  clusters =  0.47485405309317325\n",
      "Scatter for  11  clusters =  0.45852358148933703\n",
      "Scatter for  12  clusters =  0.49069969097099975\n",
      "Scatter for  13  clusters =  0.46261567024356187\n",
      "Scatter for  14  clusters =  0.37774611648759715\n",
      "Scatter for  15  clusters =  0.32711518006795604\n",
      "Scatter for  16  clusters =  0.35289603729236274\n",
      "Scatter for  17  clusters =  0.37802368924502405\n",
      "Scatter for  18  clusters =  0.3170662713272902\n",
      "Scatter for  19  clusters =  0.31149967003369045\n",
      "Scatter for  20  clusters =  0.2503356795205767\n",
      "Scatter for  21  clusters =  0.23716952396238158\n",
      "Scatter for  22  clusters =  0.2728855828394988\n",
      "Scatter for  23  clusters =  0.24859213563346705\n",
      "Scatter for  24  clusters =  0.265844734148629\n"
     ]
    }
   ],
   "source": [
    "scatter = []\n",
    "for k in range(1, 25):\n",
    "    [cluster_id, centroids] = find_cluster(data, k)\n",
    "    cur_scatter = compute_scatter(cluster_id, centroids, data)\n",
    "    scatter.append(cur_scatter)\n",
    "    print(\"Scatter for \", k, \" clusters = \", cur_scatter)\n"
   ]
  },
  {
   "cell_type": "code",
   "execution_count": 106,
   "metadata": {},
   "outputs": [
    {
     "data": {
      "text/plain": [
       "[<matplotlib.lines.Line2D at 0x2215464bd00>]"
      ]
     },
     "execution_count": 106,
     "metadata": {},
     "output_type": "execute_result"
    },
    {
     "data": {
      "image/png": "[encoded data removed]",
      "text/plain": [
       "<Figure size 432x288 with 1 Axes>"
      ]
     },
     "metadata": {
      "needs_background": "light"
     },
     "output_type": "display_data"
    }
   ],
   "source": [
    "plt.plot(np.arange(1,25),scatter,'o-')"
   ]
  },
  {
   "cell_type": "markdown",
   "metadata": {},
   "source": [
    "From the above plot, __k = 15__ clusters seems to give low enough scatter index and hence chosen as optimal number of cluster"
   ]
  },
  {
   "cell_type": "code",
   "execution_count": 107,
   "metadata": {},
   "outputs": [],
   "source": [
    "[cluster_id, centroids] = find_cluster(data, 15)"
   ]
  },
  {
   "cell_type": "code",
   "execution_count": 108,
   "metadata": {},
   "outputs": [],
   "source": [
    "cluster_id=str(cluster_id)\n",
    "cluster_id = cluster_id[1:len(cluster_id)-1]\n",
    "cluster_id = cluster_id.replace(', ', '\\n')\n",
    "f = open(\"19EC30008_P3.out\",\"w\")\n",
    "f.write(cluster_id)\n",
    "f.close()"
   ]
  }
 ],
 "metadata": {
  "interpreter": {
   "hash": "6032681e796028657023b33fb015aad3e3365ff3a9b1e33a769ea555ae457713"
  },
  "kernelspec": {
   "display_name": "Python 3.9.4 64-bit",
   "language": "python",
   "name": "python3"
  },
  "language_info": {
   "codemirror_mode": {
    "name": "ipython",
    "version": 3
   },
   "file_extension": ".py",
   "mimetype": "text/x-python",
   "name": "python",
   "nbconvert_exporter": "python",
   "pygments_lexer": "ipython3",
   "version": "3.9.4"
  },
  "orig_nbformat": 4
 },
 "nbformat": 4,
 "nbformat_minor": 2
}
