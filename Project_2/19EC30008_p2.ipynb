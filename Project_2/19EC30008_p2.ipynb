{
 "cells": [
  {
   "cell_type": "code",
   "execution_count": 24,
   "metadata": {},
   "outputs": [],
   "source": [
    "# Name - Bbiswabasu Roy\n",
    "# Roll - 19EC30008\n",
    "# Assignment - 2\n",
    "# No specific compilation flag required. Run all cells to get output\n"
   ]
  },
  {
   "cell_type": "code",
   "execution_count": 25,
   "metadata": {},
   "outputs": [],
   "source": [
    "import pandas as pd\n",
    "import matplotlib.pyplot as plt"
   ]
  },
  {
   "cell_type": "code",
   "execution_count": 26,
   "metadata": {},
   "outputs": [],
   "source": [
    "data_train = pd.read_csv('project2.csv')\n",
    "data_train = data_train.sample(frac=1)  # shuffle the training set\n",
    "X = data_train.loc[:, data_train.columns != 'target']\n",
    "y = data_train['target']\n",
    "\n",
    "X_test = pd.read_csv('project2_test.csv')\n"
   ]
  },
  {
   "cell_type": "code",
   "execution_count": 27,
   "metadata": {},
   "outputs": [],
   "source": [
    "# splitting into training and validation set\n",
    "train_len = 280\n",
    "X_train = X.iloc[:train_len]\n",
    "y_train = y.iloc[:train_len]\n",
    "X_val = X.iloc[train_len:]\n",
    "y_val = y.iloc[train_len:]\n"
   ]
  },
  {
   "cell_type": "code",
   "execution_count": 28,
   "metadata": {},
   "outputs": [],
   "source": [
    "# preprocess to standardize all values\n",
    "mean = (X.mean(axis=0))\n",
    "std = (X.std(axis=0))\n",
    "X = (X-mean)/std\n",
    "\n",
    "X_train = (X_train-mean)/std\n",
    "\n",
    "X_val = (X_val-mean)/std\n",
    "\n",
    "X_test = (X_test-mean)/std\n"
   ]
  },
  {
   "cell_type": "code",
   "execution_count": 29,
   "metadata": {},
   "outputs": [],
   "source": [
    "def kNN_predict(k, X_train, y_train, X_test):\n",
    "    eps = 1e-6  # to avoid division by 0 while apllying distance weighted voting\n",
    "    y_test = []\n",
    "    for x in X_test:\n",
    "        distances = []\n",
    "        for i in range(0, len(X_train)):\n",
    "            distances.append((compute_distance(X_train[i], x), i))\n",
    "        distances.sort(key=lambda a: a[0])\n",
    "\n",
    "        target_count = [0, 0]\n",
    "        for i in range(0, k):\n",
    "            # give less voting weightage to far points\n",
    "            target_count[y_train[distances[i][1]]] += 1/(distances[i][0] + eps)\n",
    "\n",
    "        if(target_count[0] > target_count[1]):\n",
    "            y_test.append(0)\n",
    "        else:\n",
    "            y_test.append(1)\n",
    "    return y_test\n"
   ]
  },
  {
   "cell_type": "code",
   "execution_count": 30,
   "metadata": {},
   "outputs": [],
   "source": [
    "def compute_distance(x1, x2):\n",
    "    distance = 0\n",
    "    for i in range(0, len(x1)):\n",
    "        distance = distance+pow(x1[i]-x2[i], 2)\n",
    "    return distance\n"
   ]
  },
  {
   "cell_type": "code",
   "execution_count": 31,
   "metadata": {},
   "outputs": [],
   "source": [
    "def compute_error(y_test, prediction):\n",
    "    error = 0\n",
    "    for i in range(0, len(y_test)):\n",
    "        if y_test[i] != prediction[i]:\n",
    "            error += 1\n",
    "    error /= len(y_test)\n",
    "    return error*100\n"
   ]
  },
  {
   "cell_type": "code",
   "execution_count": 32,
   "metadata": {},
   "outputs": [],
   "source": [
    "def plot_error(X_test, y_test):\n",
    "    errors = []\n",
    "    for k in range(1, 50):\n",
    "        prediction = kNN_predict(\n",
    "            k, X_train.values, y_train.values, X_test.values)\n",
    "        errors.append(compute_error(y_test, prediction))\n",
    "    plt.plot(range(1, 50), errors, '.-')\n"
   ]
  },
  {
   "cell_type": "code",
   "execution_count": 33,
   "metadata": {},
   "outputs": [
    {
     "data": {
      "text/plain": [
       "Text(0, 0.5, 'Error(%)')"
      ]
     },
     "execution_count": 33,
     "metadata": {},
     "output_type": "execute_result"
    },
    {
     "data": {
      "image/png": "[encoded data removed]",
      "text/plain": [
       "<Figure size 432x288 with 1 Axes>"
      ]
     },
     "metadata": {
      "needs_background": "light"
     },
     "output_type": "display_data"
    }
   ],
   "source": [
    "# choose best k based on error on validation set\n",
    "plot_error(X_val, y_val.values)\n",
    "plt.grid(True)\n",
    "plt.xlabel(\"K\")\n",
    "plt.ylabel(\"Error(%)\")"
   ]
  },
  {
   "cell_type": "code",
   "execution_count": 34,
   "metadata": {},
   "outputs": [],
   "source": [
    "# as it gives less error on validation set as well as it is close to sqrt(N)\n",
    "k = 17\n",
    "prediction = kNN_predict(k, X.values, y.values, X_test.values)\n",
    "\n",
    "# formatting as required in output file\n",
    "prediction = str(prediction)\n",
    "prediction = prediction[1:len(prediction)-1]\n",
    "prediction = prediction.replace(',', ' ')\n",
    "f = open(\"19EC30008_P2.out\", \"w\")\n",
    "f.write(prediction)\n",
    "f.close()\n"
   ]
  }
 ],
 "metadata": {
  "interpreter": {
   "hash": "6032681e796028657023b33fb015aad3e3365ff3a9b1e33a769ea555ae457713"
  },
  "kernelspec": {
   "display_name": "Python 3.9.4 64-bit",
   "language": "python",
   "name": "python3"
  },
  "language_info": {
   "codemirror_mode": {
    "name": "ipython",
    "version": 3
   },
   "file_extension": ".py",
   "mimetype": "text/x-python",
   "name": "python",
   "nbconvert_exporter": "python",
   "pygments_lexer": "ipython3",
   "version": "3.9.4"
  },
  "orig_nbformat": 4
 },
 "nbformat": 4,
 "nbformat_minor": 2
}
