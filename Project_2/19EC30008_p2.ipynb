{
 "cells": [
  {
   "cell_type": "code",
   "execution_count": 275,
   "metadata": {},
   "outputs": [],
   "source": [
    "import numpy as np\n",
    "import pandas as pd\n",
    "from math import *\n",
    "import matplotlib.pyplot as plt"
   ]
  },
  {
   "cell_type": "code",
   "execution_count": 276,
   "metadata": {},
   "outputs": [],
   "source": [
    "data_train = pd.read_csv('project2.csv')\n",
    "data_train = data_train.sample(frac=1)  #to shuffle the training set\n",
    "X = data_train.loc[:, data_train.columns != 'target']\n",
    "y = data_train['target']\n",
    "\n",
    "X_test=pd.read_csv('project2_test.csv')"
   ]
  },
  {
   "cell_type": "code",
   "execution_count": 277,
   "metadata": {},
   "outputs": [],
   "source": [
    "# splitting into training and validation set\n",
    "train_len = 270\n",
    "X_train = X.iloc[:train_len]\n",
    "y_train = y.iloc[:train_len]\n",
    "X_val = X.iloc[train_len:]\n",
    "y_val = y.iloc[train_len:]"
   ]
  },
  {
   "cell_type": "code",
   "execution_count": 290,
   "metadata": {},
   "outputs": [],
   "source": [
    "# preprocess to standardize all values\n",
    "mean = (X.mean(axis=0))\n",
    "std = (X.std(axis=0))\n",
    "X = (X-mean)/std\n",
    "\n",
    "mean = (X_train.mean(axis=0))\n",
    "std = (X_train.std(axis=0))\n",
    "X_train = (X_train-mean)/std\n",
    "\n",
    "mean = (X_val.mean(axis=0))\n",
    "std = (X_val.std(axis=0))\n",
    "X_val = (X_val-mean)/std\n",
    "\n",
    "mean = (X_test.mean(axis=0))\n",
    "std = (X_test.std(axis=0))\n",
    "X_test = (X_test-mean)/std\n",
    "X_test.head()\n",
    "X_test['restecg'].values[:]=0 # since all values in this column are zero"
   ]
  },
  {
   "cell_type": "code",
   "execution_count": 300,
   "metadata": {},
   "outputs": [],
   "source": [
    "def kNN_predict(k, X_train, y_train, X_test):\n",
    "    y_test = []\n",
    "    for x in X_test:\n",
    "        distances = []\n",
    "        for i in range(0, len(X_train)):\n",
    "            distances.append((compute_distance(X_train[i], x), i))\n",
    "        distances.sort(key=lambda a: a[0])\n",
    "\n",
    "        target_count = [0, 0]\n",
    "        for i in range(0, k):\n",
    "            target_count[y_train[distances[i][1]]] += 1/distances[i][0]\n",
    "\n",
    "        if(target_count[0] > target_count[1]):\n",
    "            y_test.append(0)\n",
    "        else:\n",
    "            y_test.append(1)\n",
    "    return y_test\n"
   ]
  },
  {
   "cell_type": "code",
   "execution_count": 301,
   "metadata": {},
   "outputs": [],
   "source": [
    "def compute_distance(x1, x2):\n",
    "    distance = 0\n",
    "    for i in range(0, len(x1)):\n",
    "        distance = distance+pow(x1[i]-x2[i], 2)\n",
    "    return distance\n"
   ]
  },
  {
   "cell_type": "code",
   "execution_count": 302,
   "metadata": {},
   "outputs": [],
   "source": [
    "def compute_error(y_test, prediction):\n",
    "    error = 0\n",
    "    for i in range(0, len(y_test)):\n",
    "        if y_test[i] != prediction[i]:\n",
    "            error += 1\n",
    "    error /= len(y_test)\n",
    "    return error*100\n"
   ]
  },
  {
   "cell_type": "code",
   "execution_count": 303,
   "metadata": {},
   "outputs": [],
   "source": [
    "def plot_error(X_test, y_test):\n",
    "    errors = []\n",
    "    for k in range(1, 50):\n",
    "        prediction = kNN_predict(\n",
    "            k, X_train.values, y_train.values, X_test.values)\n",
    "        errors.append(compute_error(y_test, prediction))\n",
    "    plt.plot(range(1, 50), errors, '.-')\n"
   ]
  },
  {
   "cell_type": "code",
   "execution_count": 304,
   "metadata": {},
   "outputs": [
    {
     "data": {
      "image/png": "[encoded data removed]",
      "text/plain": [
       "<Figure size 432x288 with 1 Axes>"
      ]
     },
     "metadata": {
      "needs_background": "light"
     },
     "output_type": "display_data"
    }
   ],
   "source": [
    "# choose best k based on error on validation set\n",
    "plot_error(X_val,y_val.values)\n",
    "plt.grid(True)"
   ]
  },
  {
   "cell_type": "code",
   "execution_count": 305,
   "metadata": {},
   "outputs": [
    {
     "name": "stdout",
     "output_type": "stream",
     "text": [
      "[1, 1, 0, 1]\n"
     ]
    }
   ],
   "source": [
    "k = 15\n",
    "prediction = kNN_predict(k, X.values, y.values, X_test.values)\n",
    "print(prediction)\n"
   ]
  }
 ],
 "metadata": {
  "interpreter": {
   "hash": "6032681e796028657023b33fb015aad3e3365ff3a9b1e33a769ea555ae457713"
  },
  "kernelspec": {
   "display_name": "Python 3.9.4 64-bit",
   "language": "python",
   "name": "python3"
  },
  "language_info": {
   "codemirror_mode": {
    "name": "ipython",
    "version": 3
   },
   "file_extension": ".py",
   "mimetype": "text/x-python",
   "name": "python",
   "nbconvert_exporter": "python",
   "pygments_lexer": "ipython3",
   "version": "3.8.10"
  },
  "orig_nbformat": 4
 },
 "nbformat": 4,
 "nbformat_minor": 2
}
